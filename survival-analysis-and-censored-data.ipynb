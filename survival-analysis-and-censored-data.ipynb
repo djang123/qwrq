{
 "cells": [
  {
   "cell_type": "markdown",
   "metadata": {},
   "source": [
    "## Survival analysis and censored data"
   ]
  },
  {
   "cell_type": "markdown",
   "metadata": {},
   "source": [
    "#### Simulation\n",
    "\n",
    "- Quantity of interest: time to recovery\n",
    "- Make sure the survival time is random"
   ]
  },
  {
   "cell_type": "code",
   "execution_count": null,
   "metadata": {},
   "outputs": [],
   "source": [
    "n <- 500\n",
    "durations <- ????"
   ]
  },
  {
   "cell_type": "code",
   "execution_count": null,
   "metadata": {},
   "outputs": [],
   "source": [
    "plot(c(1, 1), type=\"n\", xlim=c(0, max(duration)),\n",
    "     ylim=c(0, n + 1), main=\"Recovery Times\", xlab='days')\n",
    "segments(x0=0, x1=duration,\n",
    "         y0=seq_len(n), y1=seq_len(n))"
   ]
  },
  {
   "cell_type": "markdown",
   "metadata": {},
   "source": [
    "#### What is the average recovery time? With perfect data, our usual techniques work!"
   ]
  },
  {
   "cell_type": "markdown",
   "metadata": {},
   "source": [
    "As a statistician, what would you report?"
   ]
  },
  {
   "cell_type": "code",
   "execution_count": null,
   "metadata": {},
   "outputs": [],
   "source": []
  },
  {
   "cell_type": "code",
   "execution_count": null,
   "metadata": {},
   "outputs": [],
   "source": []
  },
  {
   "cell_type": "code",
   "execution_count": null,
   "metadata": {},
   "outputs": [],
   "source": []
  },
  {
   "cell_type": "code",
   "execution_count": null,
   "metadata": {},
   "outputs": [],
   "source": []
  },
  {
   "cell_type": "markdown",
   "metadata": {},
   "source": [
    "### How can we model recovery time from a disease given the data above?"
   ]
  },
  {
   "cell_type": "markdown",
   "metadata": {},
   "source": [
    "- I'm sick, will recovery take longer than $t=10$?\n",
    "- What's the chance I'll need to take fewer than 2 days off work?"
   ]
  },
  {
   "cell_type": "code",
   "execution_count": null,
   "metadata": {},
   "outputs": [],
   "source": []
  },
  {
   "cell_type": "code",
   "execution_count": null,
   "metadata": {},
   "outputs": [],
   "source": []
  },
  {
   "cell_type": "markdown",
   "metadata": {},
   "source": [
    "Now please create a \"model\" that takes in a time, $t$, and returns the probability of someone's recovery taking longer than $t$. Let's say the time to recovery is a random variable $T$.\n",
    "- Translate the above request into a mathematical expression\n",
    "- Write the function that estimates the mathematical quantity, make sure the function can take in a vector of different $t$ values"
   ]
  },
  {
   "cell_type": "code",
   "execution_count": null,
   "metadata": {},
   "outputs": [],
   "source": [
    "surv_fun <- function(t){\n",
    "    ????\n",
    "}"
   ]
  },
  {
   "cell_type": "code",
   "execution_count": null,
   "metadata": {},
   "outputs": [],
   "source": []
  },
  {
   "cell_type": "code",
   "execution_count": null,
   "metadata": {},
   "outputs": [],
   "source": [
    "possible_times <- seq(0, max(duration), length.out = 100)"
   ]
  },
  {
   "cell_type": "code",
   "execution_count": null,
   "metadata": {},
   "outputs": [],
   "source": [
    "# Both methods produce the same answer\n",
    "plot(possible_times, surv_fun(possible_times), xlab=\"time\",\n",
    "    ylab=\"1 - cumulative density\", main=\"P(T > t)\")"
   ]
  },
  {
   "cell_type": "code",
   "execution_count": null,
   "metadata": {},
   "outputs": [],
   "source": []
  },
  {
   "cell_type": "code",
   "execution_count": null,
   "metadata": {},
   "outputs": [],
   "source": []
  },
  {
   "cell_type": "markdown",
   "metadata": {},
   "source": [
    "$P(T>t)$ is also referred as the \"survival function\", $S(t)$, which you can think of as the virus's survival.\n",
    "\n",
    "There is a simple connection between the cumulative density of the survival times with the survival function. Namely, \n",
    "\n",
    "$$P(T>t) = S(t) = 1 - F(t) = 1 - P(T \\leq t)$$"
   ]
  },
  {
   "cell_type": "code",
   "execution_count": null,
   "metadata": {},
   "outputs": [],
   "source": []
  },
  {
   "cell_type": "markdown",
   "metadata": {},
   "source": [
    "#### What happens if your experiment could only run until time=20?\n",
    "\n",
    "- How can we simulate this phenomenon?"
   ]
  },
  {
   "cell_type": "code",
   "execution_count": null,
   "metadata": {},
   "outputs": [],
   "source": [
    "censored_time <- 20\n",
    "censored <- duration >= censored_time\n",
    "censored_duration <- ifelse(censored, censored_time, duration)"
   ]
  },
  {
   "cell_type": "markdown",
   "metadata": {},
   "source": [
    "#### If you only had the censored data, for the problem of estimating average durations, can you\n",
    "- Use the data as is (e.g. assume they recovered at censored time)?\n",
    "- Drop the censored data points?\n",
    "- Which method above is better?"
   ]
  },
  {
   "cell_type": "code",
   "execution_count": null,
   "metadata": {},
   "outputs": [],
   "source": []
  },
  {
   "cell_type": "code",
   "execution_count": null,
   "metadata": {},
   "outputs": [],
   "source": []
  },
  {
   "cell_type": "code",
   "execution_count": null,
   "metadata": {},
   "outputs": [],
   "source": []
  },
  {
   "cell_type": "code",
   "execution_count": null,
   "metadata": {},
   "outputs": [],
   "source": []
  },
  {
   "cell_type": "markdown",
   "metadata": {},
   "source": [
    "#### What if everyone gets bored at different random times and decides to drop out of the study, i.e. the censoring is random?"
   ]
  },
  {
   "cell_type": "code",
   "execution_count": null,
   "metadata": {},
   "outputs": [],
   "source": [
    "bored_time <- rexp(n, 0.1)\n",
    "censored <- duration >= bored_time\n",
    "censored_duration <- ifelse(censored, bored_time, duration)"
   ]
  },
  {
   "cell_type": "code",
   "execution_count": null,
   "metadata": {},
   "outputs": [],
   "source": []
  },
  {
   "cell_type": "code",
   "execution_count": null,
   "metadata": {},
   "outputs": [],
   "source": []
  },
  {
   "cell_type": "code",
   "execution_count": null,
   "metadata": {},
   "outputs": [],
   "source": []
  },
  {
   "cell_type": "markdown",
   "metadata": {},
   "source": [
    "#### What are the impacts of the random censoring?"
   ]
  },
  {
   "cell_type": "code",
   "execution_count": null,
   "metadata": {},
   "outputs": [],
   "source": []
  },
  {
   "cell_type": "code",
   "execution_count": null,
   "metadata": {},
   "outputs": [],
   "source": []
  },
  {
   "cell_type": "markdown",
   "metadata": {},
   "source": []
  },
  {
   "cell_type": "markdown",
   "metadata": {},
   "source": [
    "#### Visualize the impact of censoring on the survival curve by plotting the censored and uncensored data together.\n",
    "Pick which ever type of censoring you wish to study"
   ]
  },
  {
   "cell_type": "code",
   "execution_count": null,
   "metadata": {},
   "outputs": [],
   "source": [
    "censored_surv_prob <- function(x) 1 - ecdf(censored_duration)(x)"
   ]
  },
  {
   "cell_type": "code",
   "execution_count": null,
   "metadata": {},
   "outputs": [],
   "source": []
  },
  {
   "cell_type": "code",
   "execution_count": null,
   "metadata": {},
   "outputs": [],
   "source": []
  },
  {
   "cell_type": "markdown",
   "metadata": {},
   "source": [
    "### Can you explain the difference?"
   ]
  },
  {
   "cell_type": "code",
   "execution_count": null,
   "metadata": {},
   "outputs": [],
   "source": []
  },
  {
   "cell_type": "markdown",
   "metadata": {},
   "source": [
    "### New Simulation\n",
    "- Let's create a binary variable, `treated`, such that subjects who are treated have half the recovery time than those untreated.  Recreate the duraion dataset."
   ]
  },
  {
   "cell_type": "code",
   "execution_count": null,
   "metadata": {},
   "outputs": [],
   "source": [
    "treated <- sample(c(TRUE, FALSE), n, replace=TRUE)\n",
    "duration <- ifelse(treated,\n",
    "                   rexp(n, recover_rate * 2),\n",
    "                   rexp(n, recover_rate))"
   ]
  },
  {
   "cell_type": "markdown",
   "metadata": {},
   "source": [
    "#### Plot the recovery times but color the lines by their treatment status"
   ]
  },
  {
   "cell_type": "code",
   "execution_count": null,
   "metadata": {},
   "outputs": [],
   "source": [
    "plot(c(1, 1), type=\"n\", xlim=c(0, max(duration)),\n",
    "     ylim=c(0, n + 1), main=\"Recovery Times\", xlab='days')\n",
    "segments(x0=0, x1=duration,\n",
    "         y0=seq_len(n), y1=seq_len(n),\n",
    "         col=c(\"red\", \"blue\")[treated+1])\n",
    "legend(\"bottomright\", fill=c(\"red\", \"blue\"), legend=c(\"untreated\", \"treated\"))"
   ]
  },
  {
   "cell_type": "markdown",
   "metadata": {},
   "source": [
    "#### How would you detect the impact of the treatment, if you had perfect data?"
   ]
  },
  {
   "cell_type": "code",
   "execution_count": null,
   "metadata": {},
   "outputs": [],
   "source": []
  },
  {
   "cell_type": "markdown",
   "metadata": {},
   "source": [
    "#### Please show the impact of censoring on your estimates"
   ]
  },
  {
   "cell_type": "code",
   "execution_count": null,
   "metadata": {},
   "outputs": [],
   "source": []
  },
  {
   "cell_type": "code",
   "execution_count": null,
   "metadata": {},
   "outputs": [],
   "source": []
  },
  {
   "cell_type": "code",
   "execution_count": null,
   "metadata": {},
   "outputs": [],
   "source": []
  }
 ],
 "metadata": {
  "kernelspec": {
   "display_name": "R",
   "language": "R",
   "name": "ir"
  },
  "language_info": {
   "codemirror_mode": "r",
   "file_extension": ".r",
   "mimetype": "text/x-r-source",
   "name": "R",
   "pygments_lexer": "r",
   "version": "3.6.1"
  }
 },
 "nbformat": 4,
 "nbformat_minor": 4
}
